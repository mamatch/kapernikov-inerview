{
 "cells": [
  {
   "cell_type": "code",
   "execution_count": 1,
   "id": "c8f0bb44-5d81-40c3-981c-af6980d26881",
   "metadata": {},
   "outputs": [],
   "source": [
    "import psycopg2"
   ]
  },
  {
   "cell_type": "code",
   "execution_count": 7,
   "id": "bfbc194b-f455-4ab5-af57-eb87b7f37532",
   "metadata": {},
   "outputs": [],
   "source": [
    "connection = psycopg2.connect(user=\"dej\",\n",
    "                                  password=\"dej\",\n",
    "                                  host=\"postgres-server\",\n",
    "                                  port=\"5432\",\n",
    "                                  database=\"dej\")"
   ]
  },
  {
   "cell_type": "code",
   "execution_count": 8,
   "id": "09347a16-b5a1-4677-a539-9b28791aa577",
   "metadata": {},
   "outputs": [
    {
     "name": "stdout",
     "output_type": "stream",
     "text": [
      "hello\n"
     ]
    }
   ],
   "source": [
    "print('hello')"
   ]
  },
  {
   "cell_type": "code",
   "execution_count": 9,
   "id": "5c63a800-be2d-4032-9ff8-0042bb639f73",
   "metadata": {},
   "outputs": [],
   "source": [
    "cursor = connection.cursor()"
   ]
  },
  {
   "cell_type": "markdown",
   "id": "78a766f7-fd73-400f-b389-7616bab96d97",
   "metadata": {},
   "source": [
    "# Insert in persons"
   ]
  },
  {
   "cell_type": "code",
   "execution_count": 10,
   "id": "2695a6aa-4e8f-4338-9d23-1759cb7507db",
   "metadata": {},
   "outputs": [
    {
     "name": "stdout",
     "output_type": "stream",
     "text": [
      "1 Record inserted successfully into persons table\n"
     ]
    }
   ],
   "source": [
    "query = \"\"\" INSERT INTO persons (first_name, last_name) VALUES (%s,%s)\"\"\"\n",
    "records = [('mathieu', 'Monet'),('Romain', 'Peret')]\n",
    "\n",
    "for record in records:\n",
    "    cursor.execute(query, record)\n",
    "\n",
    "connection.commit()\n",
    "count = cursor.rowcount\n",
    "print(count, \"Record inserted successfully into persons table\")"
   ]
  },
  {
   "cell_type": "markdown",
   "id": "69da0f9c-48e7-4985-82bb-018fa33de747",
   "metadata": {},
   "source": [
    "# Insert into Albums"
   ]
  },
  {
   "cell_type": "code",
   "execution_count": 11,
   "id": "827b0c1c-412e-4d73-b95f-1e2c9b3e2fa4",
   "metadata": {},
   "outputs": [],
   "source": [
    "albums_records = [('In the Aeroplane Over The Sea', 'Neutral Milk Hotel'),\n",
    "                 ('Cyberpunk', 'Billy Idol'),\n",
    "                 ('Bruce Springsteen ', 'The Ghost of Tom Joad'),\n",
    "                 ('Diamond Dogs', 'David Bowie'),\n",
    "                 ('Haunted', 'Poe')]"
   ]
  },
  {
   "cell_type": "code",
   "execution_count": 12,
   "id": "49527769-10b6-4e97-8511-d32ef298232b",
   "metadata": {},
   "outputs": [],
   "source": [
    "query = \"\"\" INSERT INTO albums (title, author) VALUES (%s,%s)\"\"\"\n",
    "for record in albums_records:\n",
    "    cursor.execute(query, record)\n",
    "connection.commit()"
   ]
  },
  {
   "cell_type": "markdown",
   "id": "255d8594-d130-4379-aae4-bb64114fb551",
   "metadata": {},
   "source": [
    "# Insertion of copies"
   ]
  },
  {
   "cell_type": "code",
   "execution_count": 16,
   "id": "49fec704-3a8e-4199-9617-092286b8a28f",
   "metadata": {},
   "outputs": [],
   "source": [
    "connection.commit()"
   ]
  },
  {
   "cell_type": "code",
   "execution_count": 17,
   "id": "5b453396-5e9b-43f7-9481-123d0bbd8a37",
   "metadata": {},
   "outputs": [],
   "source": [
    "from random import randint\n",
    "for _ in range(30):\n",
    "    query = \"\"\" INSERT INTO copies (album_id, owner_id) VALUES (%s,%s)\"\"\"\n",
    "    record = (randint(1, 5), randint(1,2))\n",
    "    cursor.execute(query, record)\n",
    "connection.commit()"
   ]
  },
  {
   "cell_type": "markdown",
   "id": "d7b47edf-5b72-49b5-a265-990baf42fba3",
   "metadata": {},
   "source": [
    "# Insertion of loans"
   ]
  },
  {
   "cell_type": "code",
   "execution_count": 18,
   "id": "03e142c4-316b-4755-8989-30b9748497f5",
   "metadata": {},
   "outputs": [],
   "source": [
    "from datetime import datetime"
   ]
  },
  {
   "cell_type": "code",
   "execution_count": 19,
   "id": "1b6e96e4-084e-4702-b550-e3620b998daf",
   "metadata": {},
   "outputs": [],
   "source": [
    "for _ in range(60):\n",
    "    copy_id = randint(2, 31)\n",
    "    person_id = randint(1, 2)\n",
    "    \n",
    "    start_day = randint(1, 28)\n",
    "    start_month = randint(1, 12)\n",
    "    start_year = randint(2019, 2021)\n",
    "    \n",
    "    end_day = randint(1, 28)\n",
    "    end_month = randint(1, 12)\n",
    "    end_year = randint(2019, 2021)\n",
    "    while datetime(start_year, start_month, start_day) > datetime(end_year, end_month, end_day):\n",
    "        start_day = randint(1, 28)\n",
    "        start_month = randint(1, 12)\n",
    "        start_year = randint(2019, 2021)\n",
    "        end_day = randint(1, 28)\n",
    "        end_month = randint(1, 12)\n",
    "        end_year = randint(2019, 2021)\n",
    "    \n",
    "    query = \"\"\" INSERT INTO loans (copy_id, person_id, start_date, end_date) VALUES (%s,%s,%s,%s)\"\"\"\n",
    "    record = (copy_id, person_id, str(datetime(start_year, start_month, start_day)), str(datetime(end_year, end_month, end_day)) )\n",
    "    cursor.execute(query, record)\n",
    "connection.commit()"
   ]
  },
  {
   "cell_type": "code",
   "execution_count": null,
   "id": "c07540f6-0be4-40e6-bb51-b5d42bac556f",
   "metadata": {},
   "outputs": [],
   "source": []
  }
 ],
 "metadata": {
  "kernelspec": {
   "display_name": "Python 3 (ipykernel)",
   "language": "python",
   "name": "python3"
  },
  "language_info": {
   "codemirror_mode": {
    "name": "ipython",
    "version": 3
   },
   "file_extension": ".py",
   "mimetype": "text/x-python",
   "name": "python",
   "nbconvert_exporter": "python",
   "pygments_lexer": "ipython3",
   "version": "3.9.10"
  }
 },
 "nbformat": 4,
 "nbformat_minor": 5
}
