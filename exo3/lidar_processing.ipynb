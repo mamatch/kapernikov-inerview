{
 "cells": [
  {
   "cell_type": "markdown",
   "metadata": {
    "collapsed": true,
    "pycharm": {
     "name": "#%% md\n"
    }
   },
   "source": [
    "# Read the CSV and create vectors for cant and gauge columns"
   ]
  },
  {
   "cell_type": "code",
   "execution_count": 1,
   "outputs": [],
   "source": [
    "import pandas as pd\n",
    "import numpy as np"
   ],
   "metadata": {
    "collapsed": false,
    "pycharm": {
     "name": "#%%\n"
    }
   }
  },
  {
   "cell_type": "code",
   "execution_count": 2,
   "outputs": [],
   "source": [
    "data = pd.read_csv(\"export_wcant_L50A_A_40_0_42_0 .csv\")"
   ],
   "metadata": {
    "collapsed": false,
    "pycharm": {
     "name": "#%%\n"
    }
   }
  },
  {
   "cell_type": "code",
   "execution_count": 4,
   "outputs": [
    {
     "data": {
      "text/plain": "                 ID       Measure  Is latest?   MEF_ID         cant  \\\ncount  7.468000e+03   7468.000000         0.0   7468.0  7468.000000   \nmean   7.443571e+08  23816.143854         NaN  48465.0    -7.614500   \nstd    2.155970e+03    571.749651         NaN      0.0     1.403067   \nmin    7.443534e+08  22772.100000         NaN  48465.0   -13.208000   \n25%    7.443552e+08  23330.825000         NaN  48465.0    -8.334960   \n50%    7.443571e+08  23841.950000         NaN  48465.0    -7.534180   \n75%    7.443590e+08  24308.750000         NaN  48465.0    -6.625980   \nmax    7.443608e+08  24773.500000         NaN  48465.0    -3.227540   \n\n             gauge  \ncount  7468.000000  \nmean   1435.801552  \nstd       1.061178  \nmin    1432.090000  \n25%    1435.070000  \n50%    1435.720000  \n75%    1436.460000  \nmax    1439.970000  ",
      "text/html": "<div>\n<style scoped>\n    .dataframe tbody tr th:only-of-type {\n        vertical-align: middle;\n    }\n\n    .dataframe tbody tr th {\n        vertical-align: top;\n    }\n\n    .dataframe thead th {\n        text-align: right;\n    }\n</style>\n<table border=\"1\" class=\"dataframe\">\n  <thead>\n    <tr style=\"text-align: right;\">\n      <th></th>\n      <th>ID</th>\n      <th>Measure</th>\n      <th>Is latest?</th>\n      <th>MEF_ID</th>\n      <th>cant</th>\n      <th>gauge</th>\n    </tr>\n  </thead>\n  <tbody>\n    <tr>\n      <th>count</th>\n      <td>7.468000e+03</td>\n      <td>7468.000000</td>\n      <td>0.0</td>\n      <td>7468.0</td>\n      <td>7468.000000</td>\n      <td>7468.000000</td>\n    </tr>\n    <tr>\n      <th>mean</th>\n      <td>7.443571e+08</td>\n      <td>23816.143854</td>\n      <td>NaN</td>\n      <td>48465.0</td>\n      <td>-7.614500</td>\n      <td>1435.801552</td>\n    </tr>\n    <tr>\n      <th>std</th>\n      <td>2.155970e+03</td>\n      <td>571.749651</td>\n      <td>NaN</td>\n      <td>0.0</td>\n      <td>1.403067</td>\n      <td>1.061178</td>\n    </tr>\n    <tr>\n      <th>min</th>\n      <td>7.443534e+08</td>\n      <td>22772.100000</td>\n      <td>NaN</td>\n      <td>48465.0</td>\n      <td>-13.208000</td>\n      <td>1432.090000</td>\n    </tr>\n    <tr>\n      <th>25%</th>\n      <td>7.443552e+08</td>\n      <td>23330.825000</td>\n      <td>NaN</td>\n      <td>48465.0</td>\n      <td>-8.334960</td>\n      <td>1435.070000</td>\n    </tr>\n    <tr>\n      <th>50%</th>\n      <td>7.443571e+08</td>\n      <td>23841.950000</td>\n      <td>NaN</td>\n      <td>48465.0</td>\n      <td>-7.534180</td>\n      <td>1435.720000</td>\n    </tr>\n    <tr>\n      <th>75%</th>\n      <td>7.443590e+08</td>\n      <td>24308.750000</td>\n      <td>NaN</td>\n      <td>48465.0</td>\n      <td>-6.625980</td>\n      <td>1436.460000</td>\n    </tr>\n    <tr>\n      <th>max</th>\n      <td>7.443608e+08</td>\n      <td>24773.500000</td>\n      <td>NaN</td>\n      <td>48465.0</td>\n      <td>-3.227540</td>\n      <td>1439.970000</td>\n    </tr>\n  </tbody>\n</table>\n</div>"
     },
     "execution_count": 4,
     "metadata": {},
     "output_type": "execute_result"
    }
   ],
   "source": [
    "data.describe()"
   ],
   "metadata": {
    "collapsed": false,
    "pycharm": {
     "name": "#%%\n"
    }
   }
  },
  {
   "cell_type": "code",
   "execution_count": 5,
   "outputs": [
    {
     "data": {
      "text/plain": "ID                    int64\nMeasure             float64\nMeasurement date     object\nPoints               object\nIs latest?          float64\nMEF_ID                int64\ncant                float64\ngauge               float64\ndtype: object"
     },
     "execution_count": 5,
     "metadata": {},
     "output_type": "execute_result"
    }
   ],
   "source": [
    "data.dtypes"
   ],
   "metadata": {
    "collapsed": false,
    "pycharm": {
     "name": "#%%\n"
    }
   }
  },
  {
   "cell_type": "code",
   "execution_count": 11,
   "outputs": [],
   "source": [
    "cants = data.cant.values\n",
    "gauge = data.gauge.values"
   ],
   "metadata": {
    "collapsed": false,
    "pycharm": {
     "name": "#%%\n"
    }
   }
  },
  {
   "cell_type": "markdown",
   "source": [
    "## Mean of cant and gauge"
   ],
   "metadata": {
    "collapsed": false,
    "pycharm": {
     "name": "#%% md\n"
    }
   }
  },
  {
   "cell_type": "code",
   "execution_count": 13,
   "outputs": [
    {
     "name": "stdout",
     "output_type": "stream",
     "text": [
      "Mean of cant: -7.614500358864489\n",
      "Mean of gauge: 1435.8015519550079\n"
     ]
    }
   ],
   "source": [
    "mean_cant = np.average(cants)\n",
    "mean_gauge = np.average(gauge)\n",
    "\n",
    "print(\"Mean of cant: {}\".format(mean_cant))\n",
    "print(\"Mean of gauge: {}\".format(mean_gauge))"
   ],
   "metadata": {
    "collapsed": false,
    "pycharm": {
     "name": "#%%\n"
    }
   }
  },
  {
   "cell_type": "markdown",
   "source": [
    "## Transform points int cordonates"
   ],
   "metadata": {
    "collapsed": false,
    "pycharm": {
     "name": "#%% md\n"
    }
   }
  },
  {
   "cell_type": "code",
   "execution_count": 14,
   "outputs": [
    {
     "data": {
      "text/plain": "0    [1975,1975,1966,1970,1977,1976,1983,2006,2000,...\n1    [1959,1952,1954,1961,1965,1965,1963,1963,1962,...\n2    [1980,1972,1990,2008,2044,2006,2003,2000,1998,...\n3    [0,1944,1948,1946,1950,1950,1954,1951,1955,196...\n4    [0,1960,1987,1984,2017,1995,1989,1999,1993,199...\nName: Points, dtype: object"
     },
     "execution_count": 14,
     "metadata": {},
     "output_type": "execute_result"
    }
   ],
   "source": [
    "data.Points.head()"
   ],
   "metadata": {
    "collapsed": false,
    "pycharm": {
     "name": "#%%\n"
    }
   }
  },
  {
   "cell_type": "code",
   "execution_count": 15,
   "outputs": [],
   "source": [
    "def tranform_str_list(arr):\n",
    "    \"\"\"\n",
    "    A function t transform a string in a list of int\n",
    "    :param arr: The string\n",
    "    :return:\n",
    "    \"\"\"\n",
    "    str_list = arr[1:-1]\n",
    "    ints = [int(x) for x in str_list.split(\",\")]\n",
    "    return ints"
   ],
   "metadata": {
    "collapsed": false,
    "pycharm": {
     "name": "#%%\n"
    }
   }
  },
  {
   "cell_type": "code",
   "execution_count": 17,
   "outputs": [],
   "source": [
    "data[\"coords\"] = data[\"Points\"].apply(tranform_str_list)"
   ],
   "metadata": {
    "collapsed": false,
    "pycharm": {
     "name": "#%%\n"
    }
   }
  },
  {
   "cell_type": "code",
   "execution_count": 25,
   "outputs": [
    {
     "data": {
      "text/plain": "list"
     },
     "execution_count": 25,
     "metadata": {},
     "output_type": "execute_result"
    }
   ],
   "source": [
    "test = data.iloc[0] # verify that the apply function worked\n",
    "type(test.coords)"
   ],
   "metadata": {
    "collapsed": false,
    "pycharm": {
     "name": "#%%\n"
    }
   }
  },
  {
   "cell_type": "markdown",
   "source": [
    "## Average measured distance per row"
   ],
   "metadata": {
    "collapsed": false,
    "pycharm": {
     "name": "#%% md\n"
    }
   }
  },
  {
   "cell_type": "code",
   "execution_count": 26,
   "outputs": [],
   "source": [
    "data['avg_distance'] = data['coords'].apply(np.mean)"
   ],
   "metadata": {
    "collapsed": false,
    "pycharm": {
     "name": "#%%\n"
    }
   }
  },
  {
   "cell_type": "code",
   "execution_count": 27,
   "outputs": [
    {
     "name": "stdout",
     "output_type": "stream",
     "text": [
      "6355.556443556444\n"
     ]
    }
   ],
   "source": [
    "test = data.iloc[0]\n",
    "print(test.avg_distance)"
   ],
   "metadata": {
    "collapsed": false,
    "pycharm": {
     "name": "#%%\n"
    }
   }
  },
  {
   "cell_type": "markdown",
   "source": [
    "## Average measured distance without zeros per row"
   ],
   "metadata": {
    "collapsed": false,
    "pycharm": {
     "name": "#%% md\n"
    }
   }
  },
  {
   "cell_type": "code",
   "execution_count": 28,
   "outputs": [],
   "source": [
    "data['avg_distance_without_zeros'] = data['coords'].apply(lambda x: np.mean(np.nonzero(x)))"
   ],
   "metadata": {
    "collapsed": false,
    "pycharm": {
     "name": "#%%\n"
    }
   }
  },
  {
   "cell_type": "code",
   "execution_count": 29,
   "outputs": [
    {
     "name": "stdout",
     "output_type": "stream",
     "text": [
      "499.19701492537314\n"
     ]
    }
   ],
   "source": [
    "test = data.iloc[0]\n",
    "print(test.avg_distance_without_zeros)"
   ],
   "metadata": {
    "collapsed": false,
    "pycharm": {
     "name": "#%%\n"
    }
   }
  },
  {
   "cell_type": "markdown",
   "source": [
    "## Average for the whole cloud"
   ],
   "metadata": {
    "collapsed": false,
    "pycharm": {
     "name": "#%% md\n"
    }
   }
  },
  {
   "cell_type": "code",
   "execution_count": 30,
   "outputs": [
    {
     "name": "stdout",
     "output_type": "stream",
     "text": [
      "The average measured distance for the whole cloud, without counting the zeros is 497.4539933175368\n"
     ]
    }
   ],
   "source": [
    "final_avg = data['avg_distance_without_zeros'].mean()\n",
    "print(\"The average measured distance for the whole cloud, without counting the zeros is {}\".format(final_avg))"
   ],
   "metadata": {
    "collapsed": false,
    "pycharm": {
     "name": "#%%\n"
    }
   }
  },
  {
   "cell_type": "markdown",
   "source": [
    "## Translate the distances to x, y, z"
   ],
   "metadata": {
    "collapsed": false,
    "pycharm": {
     "name": "#%% md\n"
    }
   }
  },
  {
   "cell_type": "code",
   "execution_count": 31,
   "outputs": [
    {
     "data": {
      "text/plain": "          ID  Measure     Measurement date  \\\n0  744355205  23325.2  2017-04-12 06:56:05   \n1  744355206  23325.6  2017-04-12 06:56:05   \n2  744355207  23325.9  2017-04-12 06:56:05   \n3  744355208  23326.2  2017-04-12 06:56:05   \n4  744355209  23326.6  2017-04-12 06:56:05   \n\n                                              Points  Is latest?  MEF_ID  \\\n0  [1975,1975,1966,1970,1977,1976,1983,2006,2000,...         NaN   48465   \n1  [1959,1952,1954,1961,1965,1965,1963,1963,1962,...         NaN   48465   \n2  [1980,1972,1990,2008,2044,2006,2003,2000,1998,...         NaN   48465   \n3  [0,1944,1948,1946,1950,1950,1954,1951,1955,196...         NaN   48465   \n4  [0,1960,1987,1984,2017,1995,1989,1999,1993,199...         NaN   48465   \n\n      cant    gauge                                             coords  \\\n0 -8.55957  1435.16  [1975, 1975, 1966, 1970, 1977, 1976, 1983, 200...   \n1 -8.48633  1435.07  [1959, 1952, 1954, 1961, 1965, 1965, 1963, 196...   \n2 -8.44238  1435.06  [1980, 1972, 1990, 2008, 2044, 2006, 2003, 200...   \n3 -8.38867  1435.03  [0, 1944, 1948, 1946, 1950, 1950, 1954, 1951, ...   \n4 -8.21777  1434.84  [0, 1960, 1987, 1984, 2017, 1995, 1989, 1999, ...   \n\n   avg_distance  avg_distance_without_zeros  \n0   6355.556444                  499.197015  \n1   6447.606394                  500.865185  \n2   6336.035964                  505.391952  \n3   6263.323676                  506.212575  \n4   6572.953047                  505.317647  ",
      "text/html": "<div>\n<style scoped>\n    .dataframe tbody tr th:only-of-type {\n        vertical-align: middle;\n    }\n\n    .dataframe tbody tr th {\n        vertical-align: top;\n    }\n\n    .dataframe thead th {\n        text-align: right;\n    }\n</style>\n<table border=\"1\" class=\"dataframe\">\n  <thead>\n    <tr style=\"text-align: right;\">\n      <th></th>\n      <th>ID</th>\n      <th>Measure</th>\n      <th>Measurement date</th>\n      <th>Points</th>\n      <th>Is latest?</th>\n      <th>MEF_ID</th>\n      <th>cant</th>\n      <th>gauge</th>\n      <th>coords</th>\n      <th>avg_distance</th>\n      <th>avg_distance_without_zeros</th>\n    </tr>\n  </thead>\n  <tbody>\n    <tr>\n      <th>0</th>\n      <td>744355205</td>\n      <td>23325.2</td>\n      <td>2017-04-12 06:56:05</td>\n      <td>[1975,1975,1966,1970,1977,1976,1983,2006,2000,...</td>\n      <td>NaN</td>\n      <td>48465</td>\n      <td>-8.55957</td>\n      <td>1435.16</td>\n      <td>[1975, 1975, 1966, 1970, 1977, 1976, 1983, 200...</td>\n      <td>6355.556444</td>\n      <td>499.197015</td>\n    </tr>\n    <tr>\n      <th>1</th>\n      <td>744355206</td>\n      <td>23325.6</td>\n      <td>2017-04-12 06:56:05</td>\n      <td>[1959,1952,1954,1961,1965,1965,1963,1963,1962,...</td>\n      <td>NaN</td>\n      <td>48465</td>\n      <td>-8.48633</td>\n      <td>1435.07</td>\n      <td>[1959, 1952, 1954, 1961, 1965, 1965, 1963, 196...</td>\n      <td>6447.606394</td>\n      <td>500.865185</td>\n    </tr>\n    <tr>\n      <th>2</th>\n      <td>744355207</td>\n      <td>23325.9</td>\n      <td>2017-04-12 06:56:05</td>\n      <td>[1980,1972,1990,2008,2044,2006,2003,2000,1998,...</td>\n      <td>NaN</td>\n      <td>48465</td>\n      <td>-8.44238</td>\n      <td>1435.06</td>\n      <td>[1980, 1972, 1990, 2008, 2044, 2006, 2003, 200...</td>\n      <td>6336.035964</td>\n      <td>505.391952</td>\n    </tr>\n    <tr>\n      <th>3</th>\n      <td>744355208</td>\n      <td>23326.2</td>\n      <td>2017-04-12 06:56:05</td>\n      <td>[0,1944,1948,1946,1950,1950,1954,1951,1955,196...</td>\n      <td>NaN</td>\n      <td>48465</td>\n      <td>-8.38867</td>\n      <td>1435.03</td>\n      <td>[0, 1944, 1948, 1946, 1950, 1950, 1954, 1951, ...</td>\n      <td>6263.323676</td>\n      <td>506.212575</td>\n    </tr>\n    <tr>\n      <th>4</th>\n      <td>744355209</td>\n      <td>23326.6</td>\n      <td>2017-04-12 06:56:05</td>\n      <td>[0,1960,1987,1984,2017,1995,1989,1999,1993,199...</td>\n      <td>NaN</td>\n      <td>48465</td>\n      <td>-8.21777</td>\n      <td>1434.84</td>\n      <td>[0, 1960, 1987, 1984, 2017, 1995, 1989, 1999, ...</td>\n      <td>6572.953047</td>\n      <td>505.317647</td>\n    </tr>\n  </tbody>\n</table>\n</div>"
     },
     "execution_count": 31,
     "metadata": {},
     "output_type": "execute_result"
    }
   ],
   "source": [
    "data.head()"
   ],
   "metadata": {
    "collapsed": false,
    "pycharm": {
     "name": "#%%\n"
    }
   }
  },
  {
   "cell_type": "code",
   "execution_count": null,
   "outputs": [],
   "source": [],
   "metadata": {
    "collapsed": false,
    "pycharm": {
     "name": "#%%\n"
    }
   }
  }
 ],
 "metadata": {
  "kernelspec": {
   "display_name": "Python 3",
   "language": "python",
   "name": "python3"
  },
  "language_info": {
   "codemirror_mode": {
    "name": "ipython",
    "version": 2
   },
   "file_extension": ".py",
   "mimetype": "text/x-python",
   "name": "python",
   "nbconvert_exporter": "python",
   "pygments_lexer": "ipython2",
   "version": "2.7.6"
  }
 },
 "nbformat": 4,
 "nbformat_minor": 0
}